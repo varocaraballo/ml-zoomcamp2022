{
 "cells": [
  {
   "cell_type": "markdown",
   "metadata": {},
   "source": [
    "## Car price project "
   ]
  },
  {
   "cell_type": "markdown",
   "metadata": {},
   "source": [
    "Importing the libraries"
   ]
  },
  {
   "cell_type": "code",
   "execution_count": 2,
   "metadata": {},
   "outputs": [],
   "source": [
    "# importing the libraries\n",
    "import pandas as pd\n",
    "import numpy as np"
   ]
  },
  {
   "cell_type": "markdown",
   "metadata": {},
   "source": [
    "Loading the dataset"
   ]
  },
  {
   "cell_type": "code",
   "execution_count": 3,
   "metadata": {},
   "outputs": [
    {
     "data": {
      "text/html": [
       "<div>\n",
       "<style scoped>\n",
       "    .dataframe tbody tr th:only-of-type {\n",
       "        vertical-align: middle;\n",
       "    }\n",
       "\n",
       "    .dataframe tbody tr th {\n",
       "        vertical-align: top;\n",
       "    }\n",
       "\n",
       "    .dataframe thead th {\n",
       "        text-align: right;\n",
       "    }\n",
       "</style>\n",
       "<table border=\"1\" class=\"dataframe\">\n",
       "  <thead>\n",
       "    <tr style=\"text-align: right;\">\n",
       "      <th></th>\n",
       "      <th>Year</th>\n",
       "      <th>Engine HP</th>\n",
       "      <th>Engine Cylinders</th>\n",
       "      <th>Number of Doors</th>\n",
       "      <th>highway MPG</th>\n",
       "      <th>city mpg</th>\n",
       "      <th>Popularity</th>\n",
       "      <th>MSRP</th>\n",
       "    </tr>\n",
       "  </thead>\n",
       "  <tbody>\n",
       "    <tr>\n",
       "      <th>count</th>\n",
       "      <td>11914.000000</td>\n",
       "      <td>11845.00000</td>\n",
       "      <td>11884.000000</td>\n",
       "      <td>11908.000000</td>\n",
       "      <td>11914.000000</td>\n",
       "      <td>11914.000000</td>\n",
       "      <td>11914.000000</td>\n",
       "      <td>1.191400e+04</td>\n",
       "    </tr>\n",
       "    <tr>\n",
       "      <th>mean</th>\n",
       "      <td>2010.384338</td>\n",
       "      <td>249.38607</td>\n",
       "      <td>5.628829</td>\n",
       "      <td>3.436093</td>\n",
       "      <td>26.637485</td>\n",
       "      <td>19.733255</td>\n",
       "      <td>1554.911197</td>\n",
       "      <td>4.059474e+04</td>\n",
       "    </tr>\n",
       "    <tr>\n",
       "      <th>std</th>\n",
       "      <td>7.579740</td>\n",
       "      <td>109.19187</td>\n",
       "      <td>1.780559</td>\n",
       "      <td>0.881315</td>\n",
       "      <td>8.863001</td>\n",
       "      <td>8.987798</td>\n",
       "      <td>1441.855347</td>\n",
       "      <td>6.010910e+04</td>\n",
       "    </tr>\n",
       "    <tr>\n",
       "      <th>min</th>\n",
       "      <td>1990.000000</td>\n",
       "      <td>55.00000</td>\n",
       "      <td>0.000000</td>\n",
       "      <td>2.000000</td>\n",
       "      <td>12.000000</td>\n",
       "      <td>7.000000</td>\n",
       "      <td>2.000000</td>\n",
       "      <td>2.000000e+03</td>\n",
       "    </tr>\n",
       "    <tr>\n",
       "      <th>25%</th>\n",
       "      <td>2007.000000</td>\n",
       "      <td>170.00000</td>\n",
       "      <td>4.000000</td>\n",
       "      <td>2.000000</td>\n",
       "      <td>22.000000</td>\n",
       "      <td>16.000000</td>\n",
       "      <td>549.000000</td>\n",
       "      <td>2.100000e+04</td>\n",
       "    </tr>\n",
       "    <tr>\n",
       "      <th>50%</th>\n",
       "      <td>2015.000000</td>\n",
       "      <td>227.00000</td>\n",
       "      <td>6.000000</td>\n",
       "      <td>4.000000</td>\n",
       "      <td>26.000000</td>\n",
       "      <td>18.000000</td>\n",
       "      <td>1385.000000</td>\n",
       "      <td>2.999500e+04</td>\n",
       "    </tr>\n",
       "    <tr>\n",
       "      <th>75%</th>\n",
       "      <td>2016.000000</td>\n",
       "      <td>300.00000</td>\n",
       "      <td>6.000000</td>\n",
       "      <td>4.000000</td>\n",
       "      <td>30.000000</td>\n",
       "      <td>22.000000</td>\n",
       "      <td>2009.000000</td>\n",
       "      <td>4.223125e+04</td>\n",
       "    </tr>\n",
       "    <tr>\n",
       "      <th>max</th>\n",
       "      <td>2017.000000</td>\n",
       "      <td>1001.00000</td>\n",
       "      <td>16.000000</td>\n",
       "      <td>4.000000</td>\n",
       "      <td>354.000000</td>\n",
       "      <td>137.000000</td>\n",
       "      <td>5657.000000</td>\n",
       "      <td>2.065902e+06</td>\n",
       "    </tr>\n",
       "  </tbody>\n",
       "</table>\n",
       "</div>"
      ],
      "text/plain": [
       "               Year    Engine HP  Engine Cylinders  Number of Doors  \\\n",
       "count  11914.000000  11845.00000      11884.000000     11908.000000   \n",
       "mean    2010.384338    249.38607          5.628829         3.436093   \n",
       "std        7.579740    109.19187          1.780559         0.881315   \n",
       "min     1990.000000     55.00000          0.000000         2.000000   \n",
       "25%     2007.000000    170.00000          4.000000         2.000000   \n",
       "50%     2015.000000    227.00000          6.000000         4.000000   \n",
       "75%     2016.000000    300.00000          6.000000         4.000000   \n",
       "max     2017.000000   1001.00000         16.000000         4.000000   \n",
       "\n",
       "        highway MPG      city mpg    Popularity          MSRP  \n",
       "count  11914.000000  11914.000000  11914.000000  1.191400e+04  \n",
       "mean      26.637485     19.733255   1554.911197  4.059474e+04  \n",
       "std        8.863001      8.987798   1441.855347  6.010910e+04  \n",
       "min       12.000000      7.000000      2.000000  2.000000e+03  \n",
       "25%       22.000000     16.000000    549.000000  2.100000e+04  \n",
       "50%       26.000000     18.000000   1385.000000  2.999500e+04  \n",
       "75%       30.000000     22.000000   2009.000000  4.223125e+04  \n",
       "max      354.000000    137.000000   5657.000000  2.065902e+06  "
      ]
     },
     "execution_count": 3,
     "metadata": {},
     "output_type": "execute_result"
    }
   ],
   "source": [
    "df = pd.read_csv('resources/data.csv')\n",
    "df.describe()"
   ]
  },
  {
   "cell_type": "code",
   "execution_count": 4,
   "metadata": {},
   "outputs": [
    {
     "data": {
      "text/html": [
       "<div>\n",
       "<style scoped>\n",
       "    .dataframe tbody tr th:only-of-type {\n",
       "        vertical-align: middle;\n",
       "    }\n",
       "\n",
       "    .dataframe tbody tr th {\n",
       "        vertical-align: top;\n",
       "    }\n",
       "\n",
       "    .dataframe thead th {\n",
       "        text-align: right;\n",
       "    }\n",
       "</style>\n",
       "<table border=\"1\" class=\"dataframe\">\n",
       "  <thead>\n",
       "    <tr style=\"text-align: right;\">\n",
       "      <th></th>\n",
       "      <th>Make</th>\n",
       "      <th>Model</th>\n",
       "      <th>Year</th>\n",
       "      <th>Engine Fuel Type</th>\n",
       "      <th>Engine HP</th>\n",
       "      <th>Engine Cylinders</th>\n",
       "      <th>Transmission Type</th>\n",
       "      <th>Driven_Wheels</th>\n",
       "      <th>Number of Doors</th>\n",
       "      <th>Market Category</th>\n",
       "      <th>Vehicle Size</th>\n",
       "      <th>Vehicle Style</th>\n",
       "      <th>highway MPG</th>\n",
       "      <th>city mpg</th>\n",
       "      <th>Popularity</th>\n",
       "      <th>MSRP</th>\n",
       "    </tr>\n",
       "  </thead>\n",
       "  <tbody>\n",
       "    <tr>\n",
       "      <th>0</th>\n",
       "      <td>BMW</td>\n",
       "      <td>1 Series M</td>\n",
       "      <td>2011</td>\n",
       "      <td>premium unleaded (required)</td>\n",
       "      <td>335.0</td>\n",
       "      <td>6.0</td>\n",
       "      <td>MANUAL</td>\n",
       "      <td>rear wheel drive</td>\n",
       "      <td>2.0</td>\n",
       "      <td>Factory Tuner,Luxury,High-Performance</td>\n",
       "      <td>Compact</td>\n",
       "      <td>Coupe</td>\n",
       "      <td>26</td>\n",
       "      <td>19</td>\n",
       "      <td>3916</td>\n",
       "      <td>46135</td>\n",
       "    </tr>\n",
       "    <tr>\n",
       "      <th>1</th>\n",
       "      <td>BMW</td>\n",
       "      <td>1 Series</td>\n",
       "      <td>2011</td>\n",
       "      <td>premium unleaded (required)</td>\n",
       "      <td>300.0</td>\n",
       "      <td>6.0</td>\n",
       "      <td>MANUAL</td>\n",
       "      <td>rear wheel drive</td>\n",
       "      <td>2.0</td>\n",
       "      <td>Luxury,Performance</td>\n",
       "      <td>Compact</td>\n",
       "      <td>Convertible</td>\n",
       "      <td>28</td>\n",
       "      <td>19</td>\n",
       "      <td>3916</td>\n",
       "      <td>40650</td>\n",
       "    </tr>\n",
       "    <tr>\n",
       "      <th>2</th>\n",
       "      <td>BMW</td>\n",
       "      <td>1 Series</td>\n",
       "      <td>2011</td>\n",
       "      <td>premium unleaded (required)</td>\n",
       "      <td>300.0</td>\n",
       "      <td>6.0</td>\n",
       "      <td>MANUAL</td>\n",
       "      <td>rear wheel drive</td>\n",
       "      <td>2.0</td>\n",
       "      <td>Luxury,High-Performance</td>\n",
       "      <td>Compact</td>\n",
       "      <td>Coupe</td>\n",
       "      <td>28</td>\n",
       "      <td>20</td>\n",
       "      <td>3916</td>\n",
       "      <td>36350</td>\n",
       "    </tr>\n",
       "  </tbody>\n",
       "</table>\n",
       "</div>"
      ],
      "text/plain": [
       "  Make       Model  Year             Engine Fuel Type  Engine HP  \\\n",
       "0  BMW  1 Series M  2011  premium unleaded (required)      335.0   \n",
       "1  BMW    1 Series  2011  premium unleaded (required)      300.0   \n",
       "2  BMW    1 Series  2011  premium unleaded (required)      300.0   \n",
       "\n",
       "   Engine Cylinders Transmission Type     Driven_Wheels  Number of Doors  \\\n",
       "0               6.0            MANUAL  rear wheel drive              2.0   \n",
       "1               6.0            MANUAL  rear wheel drive              2.0   \n",
       "2               6.0            MANUAL  rear wheel drive              2.0   \n",
       "\n",
       "                         Market Category Vehicle Size Vehicle Style  \\\n",
       "0  Factory Tuner,Luxury,High-Performance      Compact         Coupe   \n",
       "1                     Luxury,Performance      Compact   Convertible   \n",
       "2                Luxury,High-Performance      Compact         Coupe   \n",
       "\n",
       "   highway MPG  city mpg  Popularity   MSRP  \n",
       "0           26        19        3916  46135  \n",
       "1           28        19        3916  40650  \n",
       "2           28        20        3916  36350  "
      ]
     },
     "execution_count": 4,
     "metadata": {},
     "output_type": "execute_result"
    }
   ],
   "source": [
    "df.head(3)"
   ]
  },
  {
   "cell_type": "code",
   "execution_count": 5,
   "metadata": {},
   "outputs": [
    {
     "data": {
      "text/plain": [
       "Engine Fuel Type       3\n",
       "Engine HP             69\n",
       "Engine Cylinders      30\n",
       "Number of Doors        6\n",
       "Market Category     3742\n",
       "dtype: int64"
      ]
     },
     "execution_count": 5,
     "metadata": {},
     "output_type": "execute_result"
    }
   ],
   "source": [
    "nulls = df.isnull().sum()\n",
    "nulls[nulls>0]"
   ]
  },
  {
   "cell_type": "markdown",
   "metadata": {},
   "source": [
    "Cleaning the data"
   ]
  },
  {
   "cell_type": "code",
   "execution_count": 6,
   "metadata": {},
   "outputs": [
    {
     "data": {
      "text/plain": [
       "Index(['make', 'model', 'year', 'engine_fuel_type', 'engine_hp',\n",
       "       'engine_cylinders', 'transmission_type', 'driven_wheels',\n",
       "       'number_of_doors', 'market_category', 'vehicle_size', 'vehicle_style',\n",
       "       'highway_mpg', 'city_mpg', 'popularity', 'msrp'],\n",
       "      dtype='object')"
      ]
     },
     "execution_count": 6,
     "metadata": {},
     "output_type": "execute_result"
    }
   ],
   "source": [
    "df.columns = df.columns.str.replace(' ', '_').str.lower()\n",
    "df.columns"
   ]
  },
  {
   "cell_type": "code",
   "execution_count": 7,
   "metadata": {},
   "outputs": [
    {
     "data": {
      "text/plain": [
       "['make',\n",
       " 'model',\n",
       " 'engine_fuel_type',\n",
       " 'transmission_type',\n",
       " 'driven_wheels',\n",
       " 'market_category',\n",
       " 'vehicle_size',\n",
       " 'vehicle_style']"
      ]
     },
     "execution_count": 7,
     "metadata": {},
     "output_type": "execute_result"
    }
   ],
   "source": [
    "str_columns = df.dtypes[df.dtypes == 'object'].index.to_list()\n",
    "str_columns"
   ]
  },
  {
   "cell_type": "code",
   "execution_count": 8,
   "metadata": {},
   "outputs": [
    {
     "data": {
      "text/html": [
       "<div>\n",
       "<style scoped>\n",
       "    .dataframe tbody tr th:only-of-type {\n",
       "        vertical-align: middle;\n",
       "    }\n",
       "\n",
       "    .dataframe tbody tr th {\n",
       "        vertical-align: top;\n",
       "    }\n",
       "\n",
       "    .dataframe thead th {\n",
       "        text-align: right;\n",
       "    }\n",
       "</style>\n",
       "<table border=\"1\" class=\"dataframe\">\n",
       "  <thead>\n",
       "    <tr style=\"text-align: right;\">\n",
       "      <th></th>\n",
       "      <th>make</th>\n",
       "      <th>model</th>\n",
       "      <th>year</th>\n",
       "      <th>engine_fuel_type</th>\n",
       "      <th>engine_hp</th>\n",
       "      <th>engine_cylinders</th>\n",
       "      <th>transmission_type</th>\n",
       "      <th>driven_wheels</th>\n",
       "      <th>number_of_doors</th>\n",
       "      <th>market_category</th>\n",
       "      <th>vehicle_size</th>\n",
       "      <th>vehicle_style</th>\n",
       "      <th>highway_mpg</th>\n",
       "      <th>city_mpg</th>\n",
       "      <th>popularity</th>\n",
       "      <th>msrp</th>\n",
       "    </tr>\n",
       "  </thead>\n",
       "  <tbody>\n",
       "    <tr>\n",
       "      <th>0</th>\n",
       "      <td>bmw</td>\n",
       "      <td>1_series_m</td>\n",
       "      <td>2011</td>\n",
       "      <td>premium_unleaded_(required)</td>\n",
       "      <td>335.0</td>\n",
       "      <td>6.0</td>\n",
       "      <td>manual</td>\n",
       "      <td>rear_wheel_drive</td>\n",
       "      <td>2.0</td>\n",
       "      <td>factory_tuner,luxury,high-performance</td>\n",
       "      <td>compact</td>\n",
       "      <td>coupe</td>\n",
       "      <td>26</td>\n",
       "      <td>19</td>\n",
       "      <td>3916</td>\n",
       "      <td>46135</td>\n",
       "    </tr>\n",
       "    <tr>\n",
       "      <th>1</th>\n",
       "      <td>bmw</td>\n",
       "      <td>1_series</td>\n",
       "      <td>2011</td>\n",
       "      <td>premium_unleaded_(required)</td>\n",
       "      <td>300.0</td>\n",
       "      <td>6.0</td>\n",
       "      <td>manual</td>\n",
       "      <td>rear_wheel_drive</td>\n",
       "      <td>2.0</td>\n",
       "      <td>luxury,performance</td>\n",
       "      <td>compact</td>\n",
       "      <td>convertible</td>\n",
       "      <td>28</td>\n",
       "      <td>19</td>\n",
       "      <td>3916</td>\n",
       "      <td>40650</td>\n",
       "    </tr>\n",
       "    <tr>\n",
       "      <th>2</th>\n",
       "      <td>bmw</td>\n",
       "      <td>1_series</td>\n",
       "      <td>2011</td>\n",
       "      <td>premium_unleaded_(required)</td>\n",
       "      <td>300.0</td>\n",
       "      <td>6.0</td>\n",
       "      <td>manual</td>\n",
       "      <td>rear_wheel_drive</td>\n",
       "      <td>2.0</td>\n",
       "      <td>luxury,high-performance</td>\n",
       "      <td>compact</td>\n",
       "      <td>coupe</td>\n",
       "      <td>28</td>\n",
       "      <td>20</td>\n",
       "      <td>3916</td>\n",
       "      <td>36350</td>\n",
       "    </tr>\n",
       "  </tbody>\n",
       "</table>\n",
       "</div>"
      ],
      "text/plain": [
       "  make       model  year             engine_fuel_type  engine_hp  \\\n",
       "0  bmw  1_series_m  2011  premium_unleaded_(required)      335.0   \n",
       "1  bmw    1_series  2011  premium_unleaded_(required)      300.0   \n",
       "2  bmw    1_series  2011  premium_unleaded_(required)      300.0   \n",
       "\n",
       "   engine_cylinders transmission_type     driven_wheels  number_of_doors  \\\n",
       "0               6.0            manual  rear_wheel_drive              2.0   \n",
       "1               6.0            manual  rear_wheel_drive              2.0   \n",
       "2               6.0            manual  rear_wheel_drive              2.0   \n",
       "\n",
       "                         market_category vehicle_size vehicle_style  \\\n",
       "0  factory_tuner,luxury,high-performance      compact         coupe   \n",
       "1                     luxury,performance      compact   convertible   \n",
       "2                luxury,high-performance      compact         coupe   \n",
       "\n",
       "   highway_mpg  city_mpg  popularity   msrp  \n",
       "0           26        19        3916  46135  \n",
       "1           28        19        3916  40650  \n",
       "2           28        20        3916  36350  "
      ]
     },
     "execution_count": 8,
     "metadata": {},
     "output_type": "execute_result"
    }
   ],
   "source": [
    "for str_column in str_columns:\n",
    "    df[str_column] = df[str_column].str.replace(' ', '_').str.lower()\n",
    "\n",
    "df.head(3)"
   ]
  },
  {
   "cell_type": "markdown",
   "metadata": {},
   "source": [
    "### Exploratory data analysis"
   ]
  },
  {
   "cell_type": "code",
   "execution_count": 9,
   "metadata": {},
   "outputs": [
    {
     "name": "stdout",
     "output_type": "stream",
     "text": [
      "make\n",
      "48\n",
      "['bmw' 'audi' 'fiat']\n",
      "\n",
      "model\n",
      "914\n",
      "['1_series_m' '1_series' '100']\n",
      "\n",
      "year\n",
      "28\n",
      "[2011 2012 2013]\n",
      "\n",
      "engine_fuel_type\n",
      "10\n",
      "['premium_unleaded_(required)' 'regular_unleaded'\n",
      " 'premium_unleaded_(recommended)']\n",
      "\n",
      "engine_hp\n",
      "356\n",
      "[335. 300. 230.]\n",
      "\n",
      "engine_cylinders\n",
      "9\n",
      "[6. 4. 5.]\n",
      "\n",
      "transmission_type\n",
      "5\n",
      "['manual' 'automatic' 'automated_manual']\n",
      "\n",
      "driven_wheels\n",
      "4\n",
      "['rear_wheel_drive' 'front_wheel_drive' 'all_wheel_drive']\n",
      "\n",
      "number_of_doors\n",
      "3\n",
      "[2. 4. 3.]\n",
      "\n",
      "market_category\n",
      "71\n",
      "['factory_tuner,luxury,high-performance' 'luxury,performance'\n",
      " 'luxury,high-performance']\n",
      "\n",
      "vehicle_size\n",
      "3\n",
      "['compact' 'midsize' 'large']\n",
      "\n",
      "vehicle_style\n",
      "16\n",
      "['coupe' 'convertible' 'sedan']\n",
      "\n",
      "highway_mpg\n",
      "59\n",
      "[26 28 27]\n",
      "\n",
      "city_mpg\n",
      "69\n",
      "[19 20 18]\n",
      "\n",
      "popularity\n",
      "48\n",
      "[3916 3105  819]\n",
      "\n",
      "msrp\n",
      "6049\n",
      "[46135 40650 36350]\n",
      "\n"
     ]
    }
   ],
   "source": [
    "for column in df.columns:\n",
    "    print(column)\n",
    "    print(df[column].nunique())\n",
    "    print(df[column].unique()[:3])\n",
    "    print()"
   ]
  },
  {
   "cell_type": "markdown",
   "metadata": {},
   "source": [
    "Price distribution"
   ]
  },
  {
   "cell_type": "markdown",
   "metadata": {},
   "source": [
    "What is most expensive car?"
   ]
  },
  {
   "cell_type": "code",
   "execution_count": 10,
   "metadata": {},
   "outputs": [
    {
     "data": {
      "text/plain": [
       "make                                     bugatti\n",
       "model                                veyron_16.4\n",
       "year                                        2008\n",
       "engine_fuel_type     premium_unleaded_(required)\n",
       "engine_hp                                 1001.0\n",
       "engine_cylinders                            16.0\n",
       "transmission_type               automated_manual\n",
       "driven_wheels                    all_wheel_drive\n",
       "number_of_doors                              2.0\n",
       "market_category          exotic,high-performance\n",
       "vehicle_size                             compact\n",
       "vehicle_style                              coupe\n",
       "highway_mpg                                   14\n",
       "city_mpg                                       8\n",
       "popularity                                   820\n",
       "msrp                                     2065902\n",
       "Name: 11362, dtype: object"
      ]
     },
     "execution_count": 10,
     "metadata": {},
     "output_type": "execute_result"
    }
   ],
   "source": [
    "df.loc[df.msrp.idxmax()]"
   ]
  },
  {
   "cell_type": "markdown",
   "metadata": {},
   "source": [
    "What is the cheapest car?"
   ]
  },
  {
   "cell_type": "code",
   "execution_count": 11,
   "metadata": {},
   "outputs": [
    {
     "data": {
      "text/plain": [
       "make                              audi\n",
       "model                              100\n",
       "year                              1992\n",
       "engine_fuel_type      regular_unleaded\n",
       "engine_hp                        172.0\n",
       "engine_cylinders                   6.0\n",
       "transmission_type               manual\n",
       "driven_wheels        front_wheel_drive\n",
       "number_of_doors                    4.0\n",
       "market_category                 luxury\n",
       "vehicle_size                   midsize\n",
       "vehicle_style                    sedan\n",
       "highway_mpg                         24\n",
       "city_mpg                            17\n",
       "popularity                        3105\n",
       "msrp                              2000\n",
       "Name: 17, dtype: object"
      ]
     },
     "execution_count": 11,
     "metadata": {},
     "output_type": "execute_result"
    }
   ],
   "source": [
    "df.loc[df.msrp.idxmin()]"
   ]
  },
  {
   "cell_type": "markdown",
   "metadata": {},
   "source": [
    "#### Note (Check distribution)"
   ]
  },
  {
   "cell_type": "code",
   "execution_count": 12,
   "metadata": {},
   "outputs": [],
   "source": [
    "import seaborn as sns\n",
    "import matplotlib.pyplot as plt\n",
    "\n",
    "%matplotlib inline"
   ]
  },
  {
   "cell_type": "code",
   "execution_count": 13,
   "metadata": {},
   "outputs": [
    {
     "data": {
      "text/plain": [
       "<AxesSubplot:xlabel='msrp', ylabel='Count'>"
      ]
     },
     "execution_count": 13,
     "metadata": {},
     "output_type": "execute_result"
    },
    {
     "data": {
      "image/png": "[encoded data removed]",
      "text/plain": [
       "<Figure size 640x480 with 1 Axes>"
      ]
     },
     "metadata": {},
     "output_type": "display_data"
    }
   ],
   "source": [
    "sns.histplot(df.msrp)"
   ]
  },
  {
   "cell_type": "code",
   "execution_count": 14,
   "metadata": {},
   "outputs": [
    {
     "data": {
      "text/plain": [
       "<AxesSubplot:xlabel='msrp', ylabel='Count'>"
      ]
     },
     "execution_count": 14,
     "metadata": {},
     "output_type": "execute_result"
    },
    {
     "data": {
      "image/png": "[encoded data removed]",
      "text/plain": [
       "<Figure size 640x480 with 1 Axes>"
      ]
     },
     "metadata": {},
     "output_type": "display_data"
    }
   ],
   "source": [
    "sns.histplot(df.msrp, bins=50)"
   ]
  },
  {
   "cell_type": "code",
   "execution_count": 15,
   "metadata": {},
   "outputs": [
    {
     "data": {
      "text/plain": [
       "<AxesSubplot:xlabel='msrp', ylabel='Count'>"
      ]
     },
     "execution_count": 15,
     "metadata": {},
     "output_type": "execute_result"
    },
    {
     "data": {
      "image/png": "[encoded data removed]",
      "text/plain": [
       "<Figure size 640x480 with 1 Axes>"
      ]
     },
     "metadata": {},
     "output_type": "display_data"
    }
   ],
   "source": [
    "sns.histplot(df.msrp[df.msrp < 100000], bins=50)"
   ]
  },
  {
   "cell_type": "markdown",
   "metadata": {},
   "source": [
    "#### Note (Riding off _long tail_ distribution)\n",
    "Notice that the distribution has a _long tail_ (check in the first and second charts) formed by a very few high prices.\n",
    "\n",
    "This _long tail_ distribution is not good for ML and we need to rid off of it. \n",
    "\n",
    "The most common alternative is to compact the values using $log$."
   ]
  },
  {
   "cell_type": "markdown",
   "metadata": {},
   "source": [
    "##### Example of compacting data using log"
   ]
  },
  {
   "cell_type": "code",
   "execution_count": 16,
   "metadata": {},
   "outputs": [
    {
     "data": {
      "text/plain": [
       "array([      1,       1,       1,       1,       1,       1,       1,\n",
       "             1,       1,       1,       1,       1,       1,       1,\n",
       "             1,       1,       1,       1,       1,       1,       1,\n",
       "             1,       1,       1,       1,       1,       1,       1,\n",
       "             1,       1,       1,       1,       1,       1,       1,\n",
       "             1,       1,       1,       1,       1,       1,       1,\n",
       "             1,       1,       1,       1,       1,       1,       1,\n",
       "             1,       1,       1,       1,       1,       1,       1,\n",
       "             1,       1,       1,       1,       1,       1,       1,\n",
       "             1,       1,       1,       1,       1,       1,       1,\n",
       "             1,       1,       1,       1,       1,       1,       1,\n",
       "             1,       1,       1,       1,       1,       1,       1,\n",
       "             1,       1,       1,       1,       1,       1,       1,\n",
       "             1,       1,       1,       1,       1,       1,       1,\n",
       "             1,       1,       2,       2,       2,       2,       2,\n",
       "             2,       2,       2,       2,       2,       2,       2,\n",
       "             2,       2,       2,       2,       2,       2,       2,\n",
       "             2,       2,       2,       2,       2,       2,       2,\n",
       "             2,       2,       2,       2,       2,       2,       2,\n",
       "             2,       2,       2,       2,       2,       2,       2,\n",
       "             2,       2,       2,       2,       2,       2,       2,\n",
       "             2,       2,       2,      10,      10,      10,      10,\n",
       "            10,      10,      10,      10,      10,      10,      10,\n",
       "            10,      10,      10,      10,      10,      10,      10,\n",
       "            10,      10,    1000,    1000,    1000,    1000,    1000,\n",
       "          1000,    1000,    1000,    1000,    1000, 1000000, 1000000,\n",
       "       1000000])"
      ]
     },
     "execution_count": 16,
     "metadata": {},
     "output_type": "execute_result"
    }
   ],
   "source": [
    "data_to_compact = np.repeat([1,2,10, 10**3, 10**6], [10**2, 50, 20, 10, 3])\n",
    "data_to_compact"
   ]
  },
  {
   "cell_type": "code",
   "execution_count": 17,
   "metadata": {},
   "outputs": [
    {
     "data": {
      "text/plain": [
       "<AxesSubplot:ylabel='Count'>"
      ]
     },
     "execution_count": 17,
     "metadata": {},
     "output_type": "execute_result"
    },
    {
     "data": {
      "image/png": "[encoded data removed]",
      "text/plain": [
       "<Figure size 640x480 with 1 Axes>"
      ]
     },
     "metadata": {},
     "output_type": "display_data"
    }
   ],
   "source": [
    "sns.histplot(data_to_compact, bins=50)"
   ]
  },
  {
   "cell_type": "code",
   "execution_count": 18,
   "metadata": {},
   "outputs": [
    {
     "data": {
      "text/plain": [
       "array([ 0.        ,  0.        ,  0.        ,  0.        ,  0.        ,\n",
       "        0.        ,  0.        ,  0.        ,  0.        ,  0.        ,\n",
       "        0.        ,  0.        ,  0.        ,  0.        ,  0.        ,\n",
       "        0.        ,  0.        ,  0.        ,  0.        ,  0.        ,\n",
       "        0.        ,  0.        ,  0.        ,  0.        ,  0.        ,\n",
       "        0.        ,  0.        ,  0.        ,  0.        ,  0.        ,\n",
       "        0.        ,  0.        ,  0.        ,  0.        ,  0.        ,\n",
       "        0.        ,  0.        ,  0.        ,  0.        ,  0.        ,\n",
       "        0.        ,  0.        ,  0.        ,  0.        ,  0.        ,\n",
       "        0.        ,  0.        ,  0.        ,  0.        ,  0.        ,\n",
       "        0.        ,  0.        ,  0.        ,  0.        ,  0.        ,\n",
       "        0.        ,  0.        ,  0.        ,  0.        ,  0.        ,\n",
       "        0.        ,  0.        ,  0.        ,  0.        ,  0.        ,\n",
       "        0.        ,  0.        ,  0.        ,  0.        ,  0.        ,\n",
       "        0.        ,  0.        ,  0.        ,  0.        ,  0.        ,\n",
       "        0.        ,  0.        ,  0.        ,  0.        ,  0.        ,\n",
       "        0.        ,  0.        ,  0.        ,  0.        ,  0.        ,\n",
       "        0.        ,  0.        ,  0.        ,  0.        ,  0.        ,\n",
       "        0.        ,  0.        ,  0.        ,  0.        ,  0.        ,\n",
       "        0.        ,  0.        ,  0.        ,  0.        ,  0.        ,\n",
       "        0.69314718,  0.69314718,  0.69314718,  0.69314718,  0.69314718,\n",
       "        0.69314718,  0.69314718,  0.69314718,  0.69314718,  0.69314718,\n",
       "        0.69314718,  0.69314718,  0.69314718,  0.69314718,  0.69314718,\n",
       "        0.69314718,  0.69314718,  0.69314718,  0.69314718,  0.69314718,\n",
       "        0.69314718,  0.69314718,  0.69314718,  0.69314718,  0.69314718,\n",
       "        0.69314718,  0.69314718,  0.69314718,  0.69314718,  0.69314718,\n",
       "        0.69314718,  0.69314718,  0.69314718,  0.69314718,  0.69314718,\n",
       "        0.69314718,  0.69314718,  0.69314718,  0.69314718,  0.69314718,\n",
       "        0.69314718,  0.69314718,  0.69314718,  0.69314718,  0.69314718,\n",
       "        0.69314718,  0.69314718,  0.69314718,  0.69314718,  0.69314718,\n",
       "        2.30258509,  2.30258509,  2.30258509,  2.30258509,  2.30258509,\n",
       "        2.30258509,  2.30258509,  2.30258509,  2.30258509,  2.30258509,\n",
       "        2.30258509,  2.30258509,  2.30258509,  2.30258509,  2.30258509,\n",
       "        2.30258509,  2.30258509,  2.30258509,  2.30258509,  2.30258509,\n",
       "        6.90775528,  6.90775528,  6.90775528,  6.90775528,  6.90775528,\n",
       "        6.90775528,  6.90775528,  6.90775528,  6.90775528,  6.90775528,\n",
       "       13.81551056, 13.81551056, 13.81551056])"
      ]
     },
     "execution_count": 18,
     "metadata": {},
     "output_type": "execute_result"
    }
   ],
   "source": [
    "# compacting by using np.log\n",
    "compacted_data = np.log(data_to_compact)\n",
    "compacted_data"
   ]
  },
  {
   "cell_type": "code",
   "execution_count": 19,
   "metadata": {},
   "outputs": [
    {
     "data": {
      "text/plain": [
       "<AxesSubplot:ylabel='Count'>"
      ]
     },
     "execution_count": 19,
     "metadata": {},
     "output_type": "execute_result"
    },
    {
     "data": {
      "image/png": "[encoded data removed]",
      "text/plain": [
       "<Figure size 640x480 with 1 Axes>"
      ]
     },
     "metadata": {},
     "output_type": "display_data"
    }
   ],
   "source": [
    "sns.histplot(compacted_data, bins=50)"
   ]
  },
  {
   "cell_type": "markdown",
   "metadata": {},
   "source": [
    "Notice that after compacting the data the range of values is smaller and the difference proportion among the values has decreased notably."
   ]
  },
  {
   "cell_type": "markdown",
   "metadata": {},
   "source": [
    "> In some cases some of the value in list of data to compact my be $0$, in that case we need to fix the data to avoid numeric error by trying to compute the logaritmic value of $0$. Check the example below."
   ]
  },
  {
   "cell_type": "code",
   "execution_count": 20,
   "metadata": {},
   "outputs": [
    {
     "data": {
      "text/plain": [
       "array([      0,       1,       1,       1,       1,       1,       1,\n",
       "             1,       1,       1,       1,       1,       1,       1,\n",
       "             1,       1,       1,       1,       1,       1,       1,\n",
       "             1,       1,       1,       1,       1,       1,       1,\n",
       "             1,       1,       1,       1,       1,       1,       1,\n",
       "             1,       1,       1,       1,       1,       1,       1,\n",
       "             1,       1,       1,       1,       1,       1,       1,\n",
       "             1,       1,       1,       1,       1,       1,       1,\n",
       "             1,       1,       1,       1,       1,       1,       1,\n",
       "             1,       1,       1,       1,       1,       1,       1,\n",
       "             1,       1,       1,       1,       1,       1,       1,\n",
       "             1,       1,       1,       1,       1,       1,       1,\n",
       "             1,       1,       1,       1,       1,       1,       1,\n",
       "             1,       1,       1,       1,       1,       1,       1,\n",
       "             1,       1,       1,       2,       2,       2,       2,\n",
       "             2,       2,       2,       2,       2,       2,       2,\n",
       "             2,       2,       2,       2,       2,       2,       2,\n",
       "             2,       2,       2,       2,       2,       2,       2,\n",
       "             2,       2,       2,       2,       2,       2,       2,\n",
       "             2,       2,       2,       2,       2,       2,       2,\n",
       "             2,       2,       2,       2,       2,       2,       2,\n",
       "             2,       2,       2,       2,      10,      10,      10,\n",
       "            10,      10,      10,      10,      10,      10,      10,\n",
       "            10,      10,      10,      10,      10,      10,      10,\n",
       "            10,      10,      10,    1000,    1000,    1000,    1000,\n",
       "          1000,    1000,    1000,    1000,    1000,    1000, 1000000,\n",
       "       1000000, 1000000])"
      ]
     },
     "execution_count": 20,
     "metadata": {},
     "output_type": "execute_result"
    }
   ],
   "source": [
    "data_to_compact = np.concatenate(([0], data_to_compact))\n",
    "data_to_compact"
   ]
  },
  {
   "cell_type": "code",
   "execution_count": 21,
   "metadata": {},
   "outputs": [
    {
     "name": "stderr",
     "output_type": "stream",
     "text": [
      "/var/folders/l4/ntzn12w91r1d8bv1rt4pswk80000gr/T/ipykernel_34256/210644704.py:1: RuntimeWarning: divide by zero encountered in log\n",
      "  np.log(data_to_compact)\n"
     ]
    },
    {
     "data": {
      "text/plain": [
       "array([       -inf,  0.        ,  0.        ,  0.        ,  0.        ,\n",
       "        0.        ,  0.        ,  0.        ,  0.        ,  0.        ,\n",
       "        0.        ,  0.        ,  0.        ,  0.        ,  0.        ,\n",
       "        0.        ,  0.        ,  0.        ,  0.        ,  0.        ,\n",
       "        0.        ,  0.        ,  0.        ,  0.        ,  0.        ,\n",
       "        0.        ,  0.        ,  0.        ,  0.        ,  0.        ,\n",
       "        0.        ,  0.        ,  0.        ,  0.        ,  0.        ,\n",
       "        0.        ,  0.        ,  0.        ,  0.        ,  0.        ,\n",
       "        0.        ,  0.        ,  0.        ,  0.        ,  0.        ,\n",
       "        0.        ,  0.        ,  0.        ,  0.        ,  0.        ,\n",
       "        0.        ,  0.        ,  0.        ,  0.        ,  0.        ,\n",
       "        0.        ,  0.        ,  0.        ,  0.        ,  0.        ,\n",
       "        0.        ,  0.        ,  0.        ,  0.        ,  0.        ,\n",
       "        0.        ,  0.        ,  0.        ,  0.        ,  0.        ,\n",
       "        0.        ,  0.        ,  0.        ,  0.        ,  0.        ,\n",
       "        0.        ,  0.        ,  0.        ,  0.        ,  0.        ,\n",
       "        0.        ,  0.        ,  0.        ,  0.        ,  0.        ,\n",
       "        0.        ,  0.        ,  0.        ,  0.        ,  0.        ,\n",
       "        0.        ,  0.        ,  0.        ,  0.        ,  0.        ,\n",
       "        0.        ,  0.        ,  0.        ,  0.        ,  0.        ,\n",
       "        0.        ,  0.69314718,  0.69314718,  0.69314718,  0.69314718,\n",
       "        0.69314718,  0.69314718,  0.69314718,  0.69314718,  0.69314718,\n",
       "        0.69314718,  0.69314718,  0.69314718,  0.69314718,  0.69314718,\n",
       "        0.69314718,  0.69314718,  0.69314718,  0.69314718,  0.69314718,\n",
       "        0.69314718,  0.69314718,  0.69314718,  0.69314718,  0.69314718,\n",
       "        0.69314718,  0.69314718,  0.69314718,  0.69314718,  0.69314718,\n",
       "        0.69314718,  0.69314718,  0.69314718,  0.69314718,  0.69314718,\n",
       "        0.69314718,  0.69314718,  0.69314718,  0.69314718,  0.69314718,\n",
       "        0.69314718,  0.69314718,  0.69314718,  0.69314718,  0.69314718,\n",
       "        0.69314718,  0.69314718,  0.69314718,  0.69314718,  0.69314718,\n",
       "        0.69314718,  2.30258509,  2.30258509,  2.30258509,  2.30258509,\n",
       "        2.30258509,  2.30258509,  2.30258509,  2.30258509,  2.30258509,\n",
       "        2.30258509,  2.30258509,  2.30258509,  2.30258509,  2.30258509,\n",
       "        2.30258509,  2.30258509,  2.30258509,  2.30258509,  2.30258509,\n",
       "        2.30258509,  6.90775528,  6.90775528,  6.90775528,  6.90775528,\n",
       "        6.90775528,  6.90775528,  6.90775528,  6.90775528,  6.90775528,\n",
       "        6.90775528, 13.81551056, 13.81551056, 13.81551056])"
      ]
     },
     "execution_count": 21,
     "metadata": {},
     "output_type": "execute_result"
    }
   ],
   "source": [
    "np.log(data_to_compact)"
   ]
  },
  {
   "cell_type": "markdown",
   "metadata": {},
   "source": [
    "To fix the issue with zero values using `np.log` is to use `np.log1p` which add $1$ to every value in the array prior to aply $log$"
   ]
  },
  {
   "cell_type": "code",
   "execution_count": 22,
   "metadata": {},
   "outputs": [
    {
     "data": {
      "text/plain": [
       "array([ 0.        ,  0.69314718,  0.69314718,  0.69314718,  0.69314718,\n",
       "        0.69314718,  0.69314718,  0.69314718,  0.69314718,  0.69314718,\n",
       "        0.69314718,  0.69314718,  0.69314718,  0.69314718,  0.69314718,\n",
       "        0.69314718,  0.69314718,  0.69314718,  0.69314718,  0.69314718,\n",
       "        0.69314718,  0.69314718,  0.69314718,  0.69314718,  0.69314718,\n",
       "        0.69314718,  0.69314718,  0.69314718,  0.69314718,  0.69314718,\n",
       "        0.69314718,  0.69314718,  0.69314718,  0.69314718,  0.69314718,\n",
       "        0.69314718,  0.69314718,  0.69314718,  0.69314718,  0.69314718,\n",
       "        0.69314718,  0.69314718,  0.69314718,  0.69314718,  0.69314718,\n",
       "        0.69314718,  0.69314718,  0.69314718,  0.69314718,  0.69314718,\n",
       "        0.69314718,  0.69314718,  0.69314718,  0.69314718,  0.69314718,\n",
       "        0.69314718,  0.69314718,  0.69314718,  0.69314718,  0.69314718,\n",
       "        0.69314718,  0.69314718,  0.69314718,  0.69314718,  0.69314718,\n",
       "        0.69314718,  0.69314718,  0.69314718,  0.69314718,  0.69314718,\n",
       "        0.69314718,  0.69314718,  0.69314718,  0.69314718,  0.69314718,\n",
       "        0.69314718,  0.69314718,  0.69314718,  0.69314718,  0.69314718,\n",
       "        0.69314718,  0.69314718,  0.69314718,  0.69314718,  0.69314718,\n",
       "        0.69314718,  0.69314718,  0.69314718,  0.69314718,  0.69314718,\n",
       "        0.69314718,  0.69314718,  0.69314718,  0.69314718,  0.69314718,\n",
       "        0.69314718,  0.69314718,  0.69314718,  0.69314718,  0.69314718,\n",
       "        0.69314718,  1.09861229,  1.09861229,  1.09861229,  1.09861229,\n",
       "        1.09861229,  1.09861229,  1.09861229,  1.09861229,  1.09861229,\n",
       "        1.09861229,  1.09861229,  1.09861229,  1.09861229,  1.09861229,\n",
       "        1.09861229,  1.09861229,  1.09861229,  1.09861229,  1.09861229,\n",
       "        1.09861229,  1.09861229,  1.09861229,  1.09861229,  1.09861229,\n",
       "        1.09861229,  1.09861229,  1.09861229,  1.09861229,  1.09861229,\n",
       "        1.09861229,  1.09861229,  1.09861229,  1.09861229,  1.09861229,\n",
       "        1.09861229,  1.09861229,  1.09861229,  1.09861229,  1.09861229,\n",
       "        1.09861229,  1.09861229,  1.09861229,  1.09861229,  1.09861229,\n",
       "        1.09861229,  1.09861229,  1.09861229,  1.09861229,  1.09861229,\n",
       "        1.09861229,  2.39789527,  2.39789527,  2.39789527,  2.39789527,\n",
       "        2.39789527,  2.39789527,  2.39789527,  2.39789527,  2.39789527,\n",
       "        2.39789527,  2.39789527,  2.39789527,  2.39789527,  2.39789527,\n",
       "        2.39789527,  2.39789527,  2.39789527,  2.39789527,  2.39789527,\n",
       "        2.39789527,  6.90875478,  6.90875478,  6.90875478,  6.90875478,\n",
       "        6.90875478,  6.90875478,  6.90875478,  6.90875478,  6.90875478,\n",
       "        6.90875478, 13.81551156, 13.81551156, 13.81551156])"
      ]
     },
     "execution_count": 22,
     "metadata": {},
     "output_type": "execute_result"
    }
   ],
   "source": [
    "np.log1p(data_to_compact)"
   ]
  },
  {
   "cell_type": "markdown",
   "metadata": {},
   "source": [
    "> What if there is a $-1$ in the array? \n",
    "\n",
    "> Then $-1+1=0$... are we in the same situation again?\n",
    "\n",
    "> The answer is _yes_ (check teh code below), so in these cases we should find another alternative (probably using some insigh of the data)"
   ]
  },
  {
   "cell_type": "code",
   "execution_count": 23,
   "metadata": {},
   "outputs": [
    {
     "name": "stderr",
     "output_type": "stream",
     "text": [
      "/var/folders/l4/ntzn12w91r1d8bv1rt4pswk80000gr/T/ipykernel_34256/4045520144.py:1: RuntimeWarning: divide by zero encountered in log1p\n",
      "  np.log1p(np.concatenate(([-1], data_to_compact)))\n"
     ]
    },
    {
     "data": {
      "text/plain": [
       "array([       -inf,  0.        ,  0.69314718,  0.69314718,  0.69314718,\n",
       "        0.69314718,  0.69314718,  0.69314718,  0.69314718,  0.69314718,\n",
       "        0.69314718,  0.69314718,  0.69314718,  0.69314718,  0.69314718,\n",
       "        0.69314718,  0.69314718,  0.69314718,  0.69314718,  0.69314718,\n",
       "        0.69314718,  0.69314718,  0.69314718,  0.69314718,  0.69314718,\n",
       "        0.69314718,  0.69314718,  0.69314718,  0.69314718,  0.69314718,\n",
       "        0.69314718,  0.69314718,  0.69314718,  0.69314718,  0.69314718,\n",
       "        0.69314718,  0.69314718,  0.69314718,  0.69314718,  0.69314718,\n",
       "        0.69314718,  0.69314718,  0.69314718,  0.69314718,  0.69314718,\n",
       "        0.69314718,  0.69314718,  0.69314718,  0.69314718,  0.69314718,\n",
       "        0.69314718,  0.69314718,  0.69314718,  0.69314718,  0.69314718,\n",
       "        0.69314718,  0.69314718,  0.69314718,  0.69314718,  0.69314718,\n",
       "        0.69314718,  0.69314718,  0.69314718,  0.69314718,  0.69314718,\n",
       "        0.69314718,  0.69314718,  0.69314718,  0.69314718,  0.69314718,\n",
       "        0.69314718,  0.69314718,  0.69314718,  0.69314718,  0.69314718,\n",
       "        0.69314718,  0.69314718,  0.69314718,  0.69314718,  0.69314718,\n",
       "        0.69314718,  0.69314718,  0.69314718,  0.69314718,  0.69314718,\n",
       "        0.69314718,  0.69314718,  0.69314718,  0.69314718,  0.69314718,\n",
       "        0.69314718,  0.69314718,  0.69314718,  0.69314718,  0.69314718,\n",
       "        0.69314718,  0.69314718,  0.69314718,  0.69314718,  0.69314718,\n",
       "        0.69314718,  0.69314718,  1.09861229,  1.09861229,  1.09861229,\n",
       "        1.09861229,  1.09861229,  1.09861229,  1.09861229,  1.09861229,\n",
       "        1.09861229,  1.09861229,  1.09861229,  1.09861229,  1.09861229,\n",
       "        1.09861229,  1.09861229,  1.09861229,  1.09861229,  1.09861229,\n",
       "        1.09861229,  1.09861229,  1.09861229,  1.09861229,  1.09861229,\n",
       "        1.09861229,  1.09861229,  1.09861229,  1.09861229,  1.09861229,\n",
       "        1.09861229,  1.09861229,  1.09861229,  1.09861229,  1.09861229,\n",
       "        1.09861229,  1.09861229,  1.09861229,  1.09861229,  1.09861229,\n",
       "        1.09861229,  1.09861229,  1.09861229,  1.09861229,  1.09861229,\n",
       "        1.09861229,  1.09861229,  1.09861229,  1.09861229,  1.09861229,\n",
       "        1.09861229,  1.09861229,  2.39789527,  2.39789527,  2.39789527,\n",
       "        2.39789527,  2.39789527,  2.39789527,  2.39789527,  2.39789527,\n",
       "        2.39789527,  2.39789527,  2.39789527,  2.39789527,  2.39789527,\n",
       "        2.39789527,  2.39789527,  2.39789527,  2.39789527,  2.39789527,\n",
       "        2.39789527,  2.39789527,  6.90875478,  6.90875478,  6.90875478,\n",
       "        6.90875478,  6.90875478,  6.90875478,  6.90875478,  6.90875478,\n",
       "        6.90875478,  6.90875478, 13.81551156, 13.81551156, 13.81551156])"
      ]
     },
     "execution_count": 23,
     "metadata": {},
     "output_type": "execute_result"
    }
   ],
   "source": [
    "np.log1p(np.concatenate(([-1], data_to_compact)))"
   ]
  },
  {
   "cell_type": "markdown",
   "metadata": {},
   "source": [
    "Getting back in our car price project, lets compact the msrp column"
   ]
  },
  {
   "cell_type": "code",
   "execution_count": 24,
   "metadata": {},
   "outputs": [
    {
     "data": {
      "text/plain": [
       "(7.601402334583733, 14.54107797693027)"
      ]
     },
     "execution_count": 24,
     "metadata": {},
     "output_type": "execute_result"
    }
   ],
   "source": [
    "price_log = np.log1p(df.msrp)\n",
    "(price_log.min(), price_log.max())"
   ]
  },
  {
   "cell_type": "code",
   "execution_count": 25,
   "metadata": {},
   "outputs": [
    {
     "data": {
      "text/plain": [
       "<AxesSubplot:xlabel='msrp', ylabel='Count'>"
      ]
     },
     "execution_count": 25,
     "metadata": {},
     "output_type": "execute_result"
    },
    {
     "data": {
      "image/png": "[encoded data removed]",
      "text/plain": [
       "<Figure size 640x480 with 1 Axes>"
      ]
     },
     "metadata": {},
     "output_type": "display_data"
    }
   ],
   "source": [
    "# Checking hte histogram again\n",
    "sns.histplot(price_log)"
   ]
  },
  {
   "cell_type": "markdown",
   "metadata": {},
   "source": [
    "Check in the chart above that now we have a much better distribution"
   ]
  },
  {
   "cell_type": "markdown",
   "metadata": {},
   "source": [
    "#### Note (Normal distribution is good for ML)\n",
    "\n",
    "Notice that after applying $log$ to the prices we got a chart with shape similar to normal distribution (except maybe the pick at the left). ML models with target variables with normal distribution have usually a very good performance."
   ]
  },
  {
   "cell_type": "markdown",
   "metadata": {},
   "source": [
    "### Setting up validation framework"
   ]
  },
  {
   "cell_type": "markdown",
   "metadata": {},
   "source": [
    "Taking 20% for validation, another 20% for test and a 60% for training"
   ]
  },
  {
   "cell_type": "code",
   "execution_count": 26,
   "metadata": {},
   "outputs": [
    {
     "data": {
      "text/plain": [
       "(2382, 2382, 7150)"
      ]
     },
     "execution_count": 26,
     "metadata": {},
     "output_type": "execute_result"
    }
   ],
   "source": [
    "n = len(df)\n",
    "val_size = int(n * 0.2) # 20%\n",
    "test_size = int(n * 0.2) # 20%\n",
    "train_size = n - val_size - test_size\n",
    "(val_size, test_size, train_size)"
   ]
  },
  {
   "cell_type": "markdown",
   "metadata": {},
   "source": [
    "Shuffling the data frame"
   ]
  },
  {
   "cell_type": "code",
   "execution_count": 27,
   "metadata": {},
   "outputs": [
    {
     "data": {
      "text/plain": [
       "array([    0,     1,     2, ..., 11911, 11912, 11913])"
      ]
     },
     "execution_count": 27,
     "metadata": {},
     "output_type": "execute_result"
    }
   ],
   "source": [
    "np.random.seed(2)\n",
    "indices = np.arange(n)\n",
    "indices"
   ]
  },
  {
   "cell_type": "code",
   "execution_count": 28,
   "metadata": {},
   "outputs": [
    {
     "data": {
      "text/plain": [
       "array([2735, 6720, 5878, ..., 6637, 2575, 7336])"
      ]
     },
     "execution_count": 28,
     "metadata": {},
     "output_type": "execute_result"
    }
   ],
   "source": [
    "np.random.shuffle(indices)\n",
    "indices"
   ]
  },
  {
   "cell_type": "code",
   "execution_count": 29,
   "metadata": {},
   "outputs": [],
   "source": [
    "df_train = df.iloc[indices[: train_size]]\n",
    "df_val = df.iloc[indices[train_size : train_size+val_size]]\n",
    "df_test = df.iloc[indices[train_size + val_size : ]]"
   ]
  },
  {
   "cell_type": "code",
   "execution_count": 30,
   "metadata": {},
   "outputs": [],
   "source": [
    "assert len(df_train) == train_size\n",
    "assert len(df_val) == val_size\n",
    "assert len(df_test) == test_size"
   ]
  },
  {
   "cell_type": "code",
   "execution_count": 31,
   "metadata": {},
   "outputs": [],
   "source": [
    "df_train = df_train.reset_index(drop=True)\n",
    "df_val = df_val.reset_index(drop=True)\n",
    "df_test = df_test.reset_index(drop=True)"
   ]
  },
  {
   "cell_type": "markdown",
   "metadata": {},
   "source": [
    "Extracting the prices as y_train, y_val and y_test respectively and drop that columns from the sets to avoid that the model train with those features by mistake "
   ]
  },
  {
   "cell_type": "code",
   "execution_count": 32,
   "metadata": {},
   "outputs": [],
   "source": [
    "y_train = np.log1p(df_train.msrp.values)\n",
    "y_val = np.log1p(df_val.msrp.values)\n",
    "y_test = np.log1p(df_test.msrp.values)\n",
    "del df_train['msrp']\n",
    "del df_val['msrp']\n",
    "del df_test['msrp']"
   ]
  },
  {
   "cell_type": "markdown",
   "metadata": {},
   "source": [
    "Illustration least square error method to solve a non-square system of equations"
   ]
  },
  {
   "cell_type": "code",
   "execution_count": 33,
   "metadata": {},
   "outputs": [
    {
     "data": {
      "text/plain": [
       "(array([[0.34277465, 0.34981611, 0.42189025],\n",
       "        [0.52122883, 0.49358956, 0.73132511],\n",
       "        [0.15870901, 0.53203372, 0.12326708],\n",
       "        [0.20943154, 0.29905982, 0.12439932]]),\n",
       " array([0.68755126, 0.01279864, 0.28640124, 0.58005479]))"
      ]
     },
     "execution_count": 33,
     "metadata": {},
     "output_type": "execute_result"
    }
   ],
   "source": [
    "# Just for testing illustration\n",
    "\n",
    "X = np.random.rand(4,3)\n",
    "\n",
    "Y = np.random.rand(4)\n",
    "\n",
    "(X, Y)"
   ]
  },
  {
   "cell_type": "code",
   "execution_count": 34,
   "metadata": {},
   "outputs": [
    {
     "name": "stderr",
     "output_type": "stream",
     "text": [
      "/var/folders/l4/ntzn12w91r1d8bv1rt4pswk80000gr/T/ipykernel_34256/1276250326.py:2: FutureWarning: `rcond` parameter will change to the default of machine precision times ``max(M, N)`` where M and N are the input matrix dimensions.\n",
      "To use the future default and silence this warning we advise to pass `rcond=None`, to keep using the old, explicitly pass `rcond=-1`.\n",
      "  np.linalg.lstsq(X, Y)\n"
     ]
    },
    {
     "data": {
      "text/plain": [
       "(array([ 6.39637133, -0.46588976, -3.98560452]),\n",
       " array([0.16197955]),\n",
       " 3,\n",
       " array([1.34163449, 0.36818539, 0.06838762]))"
      ]
     },
     "execution_count": 34,
     "metadata": {},
     "output_type": "execute_result"
    }
   ],
   "source": [
    "# solving by least square error method\n",
    "np.linalg.lstsq(X, Y)"
   ]
  },
  {
   "cell_type": "code",
   "execution_count": 35,
   "metadata": {},
   "outputs": [
    {
     "data": {
      "text/plain": [
       "array([ 6.39637133, -0.46588976, -3.98560452])"
      ]
     },
     "execution_count": 35,
     "metadata": {},
     "output_type": "execute_result"
    }
   ],
   "source": [
    "# solving manually using the same least square error method\n",
    "X_gram = X.T.dot(X)\n",
    "Y_gram = X.T.dot(Y)\n",
    "\n",
    "np.linalg.solve(X_gram, Y_gram)"
   ]
  },
  {
   "cell_type": "markdown",
   "metadata": {},
   "source": [
    "### Comming back to our project \n",
    "\n",
    "Defining a function to build our model using normal form"
   ]
  },
  {
   "cell_type": "code",
   "execution_count": 36,
   "metadata": {},
   "outputs": [],
   "source": [
    "def train_linear_regression_normal_form(X_train: np.ndarray, y_train: np.ndarray):\n",
    "    ones = np.ones(X_train.shape[0])\n",
    "    return np.linalg.lstsq(np.column_stack((ones, X_train)), y_train)"
   ]
  },
  {
   "cell_type": "code",
   "execution_count": 37,
   "metadata": {},
   "outputs": [
    {
     "data": {
      "text/plain": [
       "make                  object\n",
       "model                 object\n",
       "year                   int64\n",
       "engine_fuel_type      object\n",
       "engine_hp            float64\n",
       "engine_cylinders     float64\n",
       "transmission_type     object\n",
       "driven_wheels         object\n",
       "number_of_doors      float64\n",
       "market_category       object\n",
       "vehicle_size          object\n",
       "vehicle_style         object\n",
       "highway_mpg            int64\n",
       "city_mpg               int64\n",
       "popularity             int64\n",
       "dtype: object"
      ]
     },
     "execution_count": 37,
     "metadata": {},
     "output_type": "execute_result"
    }
   ],
   "source": [
    "df_train.dtypes"
   ]
  },
  {
   "cell_type": "code",
   "execution_count": 40,
   "metadata": {},
   "outputs": [
    {
     "data": {
      "text/html": [
       "<div>\n",
       "<style scoped>\n",
       "    .dataframe tbody tr th:only-of-type {\n",
       "        vertical-align: middle;\n",
       "    }\n",
       "\n",
       "    .dataframe tbody tr th {\n",
       "        vertical-align: top;\n",
       "    }\n",
       "\n",
       "    .dataframe thead th {\n",
       "        text-align: right;\n",
       "    }\n",
       "</style>\n",
       "<table border=\"1\" class=\"dataframe\">\n",
       "  <thead>\n",
       "    <tr style=\"text-align: right;\">\n",
       "      <th></th>\n",
       "      <th>year</th>\n",
       "      <th>engine_hp</th>\n",
       "      <th>engine_cylinders</th>\n",
       "      <th>number_of_doors</th>\n",
       "      <th>highway_mpg</th>\n",
       "      <th>city_mpg</th>\n",
       "      <th>popularity</th>\n",
       "    </tr>\n",
       "  </thead>\n",
       "  <tbody>\n",
       "    <tr>\n",
       "      <th>0</th>\n",
       "      <td>2008</td>\n",
       "      <td>148.0</td>\n",
       "      <td>4.0</td>\n",
       "      <td>2.0</td>\n",
       "      <td>33</td>\n",
       "      <td>24</td>\n",
       "      <td>1385</td>\n",
       "    </tr>\n",
       "    <tr>\n",
       "      <th>1</th>\n",
       "      <td>2012</td>\n",
       "      <td>132.0</td>\n",
       "      <td>4.0</td>\n",
       "      <td>4.0</td>\n",
       "      <td>32</td>\n",
       "      <td>25</td>\n",
       "      <td>2031</td>\n",
       "    </tr>\n",
       "    <tr>\n",
       "      <th>2</th>\n",
       "      <td>2016</td>\n",
       "      <td>148.0</td>\n",
       "      <td>4.0</td>\n",
       "      <td>4.0</td>\n",
       "      <td>37</td>\n",
       "      <td>28</td>\n",
       "      <td>640</td>\n",
       "    </tr>\n",
       "    <tr>\n",
       "      <th>3</th>\n",
       "      <td>1991</td>\n",
       "      <td>90.0</td>\n",
       "      <td>4.0</td>\n",
       "      <td>3.0</td>\n",
       "      <td>18</td>\n",
       "      <td>16</td>\n",
       "      <td>873</td>\n",
       "    </tr>\n",
       "    <tr>\n",
       "      <th>4</th>\n",
       "      <td>2017</td>\n",
       "      <td>385.0</td>\n",
       "      <td>8.0</td>\n",
       "      <td>4.0</td>\n",
       "      <td>21</td>\n",
       "      <td>15</td>\n",
       "      <td>5657</td>\n",
       "    </tr>\n",
       "    <tr>\n",
       "      <th>...</th>\n",
       "      <td>...</td>\n",
       "      <td>...</td>\n",
       "      <td>...</td>\n",
       "      <td>...</td>\n",
       "      <td>...</td>\n",
       "      <td>...</td>\n",
       "      <td>...</td>\n",
       "    </tr>\n",
       "    <tr>\n",
       "      <th>7145</th>\n",
       "      <td>2015</td>\n",
       "      <td>300.0</td>\n",
       "      <td>6.0</td>\n",
       "      <td>2.0</td>\n",
       "      <td>31</td>\n",
       "      <td>20</td>\n",
       "      <td>3916</td>\n",
       "    </tr>\n",
       "    <tr>\n",
       "      <th>7146</th>\n",
       "      <td>2015</td>\n",
       "      <td>210.0</td>\n",
       "      <td>4.0</td>\n",
       "      <td>2.0</td>\n",
       "      <td>30</td>\n",
       "      <td>24</td>\n",
       "      <td>873</td>\n",
       "    </tr>\n",
       "    <tr>\n",
       "      <th>7147</th>\n",
       "      <td>2015</td>\n",
       "      <td>285.0</td>\n",
       "      <td>6.0</td>\n",
       "      <td>4.0</td>\n",
       "      <td>22</td>\n",
       "      <td>17</td>\n",
       "      <td>549</td>\n",
       "    </tr>\n",
       "    <tr>\n",
       "      <th>7148</th>\n",
       "      <td>2014</td>\n",
       "      <td>563.0</td>\n",
       "      <td>12.0</td>\n",
       "      <td>4.0</td>\n",
       "      <td>21</td>\n",
       "      <td>13</td>\n",
       "      <td>86</td>\n",
       "    </tr>\n",
       "    <tr>\n",
       "      <th>7149</th>\n",
       "      <td>2017</td>\n",
       "      <td>200.0</td>\n",
       "      <td>4.0</td>\n",
       "      <td>4.0</td>\n",
       "      <td>31</td>\n",
       "      <td>22</td>\n",
       "      <td>873</td>\n",
       "    </tr>\n",
       "  </tbody>\n",
       "</table>\n",
       "<p>7150 rows × 7 columns</p>\n",
       "</div>"
      ],
      "text/plain": [
       "      year  engine_hp  engine_cylinders  number_of_doors  highway_mpg  \\\n",
       "0     2008      148.0               4.0              2.0           33   \n",
       "1     2012      132.0               4.0              4.0           32   \n",
       "2     2016      148.0               4.0              4.0           37   \n",
       "3     1991       90.0               4.0              3.0           18   \n",
       "4     2017      385.0               8.0              4.0           21   \n",
       "...    ...        ...               ...              ...          ...   \n",
       "7145  2015      300.0               6.0              2.0           31   \n",
       "7146  2015      210.0               4.0              2.0           30   \n",
       "7147  2015      285.0               6.0              4.0           22   \n",
       "7148  2014      563.0              12.0              4.0           21   \n",
       "7149  2017      200.0               4.0              4.0           31   \n",
       "\n",
       "      city_mpg  popularity  \n",
       "0           24        1385  \n",
       "1           25        2031  \n",
       "2           28         640  \n",
       "3           16         873  \n",
       "4           15        5657  \n",
       "...        ...         ...  \n",
       "7145        20        3916  \n",
       "7146        24         873  \n",
       "7147        17         549  \n",
       "7148        13          86  \n",
       "7149        22         873  \n",
       "\n",
       "[7150 rows x 7 columns]"
      ]
     },
     "execution_count": 40,
     "metadata": {},
     "output_type": "execute_result"
    }
   ],
   "source": [
    "X_train = df_train.select_dtypes(include='number')\n",
    "X_train"
   ]
  },
  {
   "cell_type": "code",
   "execution_count": 42,
   "metadata": {},
   "outputs": [
    {
     "data": {
      "text/plain": [
       "array([[ 148.,    4.,   33.,   24., 1385.],\n",
       "       [ 132.,    4.,   32.,   25., 2031.],\n",
       "       [ 148.,    4.,   37.,   28.,  640.],\n",
       "       ...,\n",
       "       [ 285.,    6.,   22.,   17.,  549.],\n",
       "       [ 563.,   12.,   21.,   13.,   86.],\n",
       "       [ 200.,    4.,   31.,   22.,  873.]])"
      ]
     },
     "execution_count": 42,
     "metadata": {},
     "output_type": "execute_result"
    }
   ],
   "source": [
    "base = ['engine_hp', 'engine_cylinders', 'highway_mpg', 'city_mpg', 'popularity']\n",
    "X_train = df_train[base].values\n",
    "X_train"
   ]
  },
  {
   "cell_type": "code",
   "execution_count": 43,
   "metadata": {},
   "outputs": [],
   "source": [
    "def extract_numerical_data(df: pd.DataFrame):\n",
    "    base = ['engine_hp', 'engine_cylinders', 'highway_mpg', 'city_mpg', 'popularity']\n",
    "    X_train = df_train[base].values\n",
    "    return X_train"
   ]
  }
 ],
 "metadata": {
  "kernelspec": {
   "display_name": "Python 3.9.13 ('ml-zoomcamp')",
   "language": "python",
   "name": "python3"
  },
  "language_info": {
   "codemirror_mode": {
    "name": "ipython",
    "version": 3
   },
   "file_extension": ".py",
   "mimetype": "text/x-python",
   "name": "python",
   "nbconvert_exporter": "python",
   "pygments_lexer": "ipython3",
   "version": "3.9.13"
  },
  "orig_nbformat": 4,
  "vscode": {
   "interpreter": {
    "hash": "eaa8a951e600e4fd7c0ee4550dc605fcfda383c27f36d6b2fce9a19ecbf99dda"
   }
  }
 },
 "nbformat": 4,
 "nbformat_minor": 2
}
